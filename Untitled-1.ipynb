{
    "cells": [
        {
            "cell_type": "code",
            "execution_count": 1,
            "metadata": {
                "id": "29397609",
                "language": "python"
            },
            "outputs": [
                {
                    "name": "stdout",
                    "output_type": "stream",
                    "text": [
                        "Collecting transformers==4.30.0\n",
                        "  Downloading transformers-4.30.0-py3-none-any.whl.metadata (113 kB)\n",
                        "Collecting sentencepiece==0.1.99\n",
                        "  Downloading sentencepiece-0.1.99.tar.gz (2.6 MB)\n",
                        "     ---------------------------------------- 0.0/2.6 MB ? eta -:--:--\n",
                        "     --- ------------------------------------ 0.3/2.6 MB ? eta -:--:--\n",
                        "     --------------- ------------------------ 1.0/2.6 MB 3.1 MB/s eta 0:00:01\n",
                        "     ------------------------------- -------- 2.1/2.6 MB 3.9 MB/s eta 0:00:01\n",
                        "     ---------------------------------------- 2.6/2.6 MB 3.8 MB/s eta 0:00:00\n",
                        "  Preparing metadata (setup.py): started\n",
                        "  Preparing metadata (setup.py): finished with status 'error'\n",
                        "Note: you may need to restart the kernel to use updated packages.\n"
                    ]
                },
                {
                    "name": "stderr",
                    "output_type": "stream",
                    "text": [
                        "WARNING: Ignoring invalid distribution ~ (c:\\Python312\\Lib\\site-packages)\n",
                        "WARNING: Ignoring invalid distribution ~ip (c:\\Python312\\Lib\\site-packages)\n",
                        "  error: subprocess-exited-with-error\n",
                        "  \n",
                        "  × python setup.py egg_info did not run successfully.\n",
                        "  │ exit code: 1\n",
                        "  ╰─> [17 lines of output]\n",
                        "      Traceback (most recent call last):\n",
                        "        File \"<string>\", line 2, in <module>\n",
                        "        File \"<pip-setuptools-caller>\", line 34, in <module>\n",
                        "        File \"C:\\Users\\shaba\\AppData\\Local\\Temp\\pip-install-byzrcplp\\sentencepiece_9e034600991a40e78abc1601cc014371\\setup.py\", line 126, in <module>\n",
                        "          subprocess.check_call([\n",
                        "        File \"c:\\Python312\\Lib\\subprocess.py\", line 408, in check_call\n",
                        "          retcode = call(*popenargs, **kwargs)\n",
                        "                    ^^^^^^^^^^^^^^^^^^^^^^^^^^\n",
                        "        File \"c:\\Python312\\Lib\\subprocess.py\", line 389, in call\n",
                        "          with Popen(*popenargs, **kwargs) as p:\n",
                        "               ^^^^^^^^^^^^^^^^^^^^^^^^^^^\n",
                        "        File \"c:\\Python312\\Lib\\subprocess.py\", line 1026, in __init__\n",
                        "          self._execute_child(args, executable, preexec_fn, close_fds,\n",
                        "        File \"c:\\Python312\\Lib\\subprocess.py\", line 1538, in _execute_child\n",
                        "          hp, ht, pid, tid = _winapi.CreateProcess(executable, args,\n",
                        "                             ^^^^^^^^^^^^^^^^^^^^^^^^^^^^^^^^^^^^^^^\n",
                        "      FileNotFoundError: [WinError 2] The system cannot find the file specified\n",
                        "      [end of output]\n",
                        "  \n",
                        "  note: This error originates from a subprocess, and is likely not a problem with pip.\n",
                        "\n",
                        "[notice] A new release of pip is available: 25.0.1 -> 25.1\n",
                        "[notice] To update, run: python.exe -m pip install --upgrade pip\n",
                        "error: metadata-generation-failed\n",
                        "\n",
                        "× Encountered error while generating package metadata.\n",
                        "╰─> See above for output.\n",
                        "\n",
                        "note: This is an issue with the package mentioned above, not pip.\n",
                        "hint: See above for details.\n"
                    ]
                },
                {
                    "name": "stdout",
                    "output_type": "stream",
                    "text": [
                        "Note: you may need to restart the kernel to use updated packages.\n"
                    ]
                },
                {
                    "name": "stderr",
                    "output_type": "stream",
                    "text": [
                        "WARNING: Ignoring invalid distribution ~ (c:\\Python312\\Lib\\site-packages)\n",
                        "WARNING: Ignoring invalid distribution ~ip (c:\\Python312\\Lib\\site-packages)\n",
                        "WARNING: Ignoring invalid distribution ~ (c:\\Python312\\Lib\\site-packages)\n",
                        "WARNING: Ignoring invalid distribution ~ip (c:\\Python312\\Lib\\site-packages)\n",
                        "  WARNING: Failed to write executable - trying to use .deleteme logic\n",
                        "ERROR: Could not install packages due to an OSError: [WinError 2] The system cannot find the file specified: 'c:\\\\Python312\\\\Scripts\\\\websockets.exe' -> 'c:\\\\Python312\\\\Scripts\\\\websockets.exe.deleteme'\n",
                        "\n",
                        "\n",
                        "[notice] A new release of pip is available: 25.0.1 -> 25.1\n",
                        "[notice] To update, run: python.exe -m pip install --upgrade pip\n"
                    ]
                },
                {
                    "name": "stdout",
                    "output_type": "stream",
                    "text": [
                        "Note: you may need to restart the kernel to use updated packages.\n"
                    ]
                },
                {
                    "name": "stderr",
                    "output_type": "stream",
                    "text": [
                        "WARNING: Ignoring invalid distribution ~ (c:\\Python312\\Lib\\site-packages)\n",
                        "WARNING: Ignoring invalid distribution ~ip (c:\\Python312\\Lib\\site-packages)\n",
                        "WARNING: Ignoring invalid distribution ~ (c:\\Python312\\Lib\\site-packages)\n",
                        "WARNING: Ignoring invalid distribution ~ip (c:\\Python312\\Lib\\site-packages)\n",
                        "ERROR: Could not install packages due to an OSError: [WinError 5] Access is denied: 'c:\\\\python312\\\\scripts\\\\tensorboard.exe'\n",
                        "Consider using the `--user` option or check the permissions.\n",
                        "\n",
                        "\n",
                        "[notice] A new release of pip is available: 25.0.1 -> 25.1\n",
                        "[notice] To update, run: python.exe -m pip install --upgrade pip\n"
                    ]
                },
                {
                    "name": "stdout",
                    "output_type": "stream",
                    "text": [
                        "Collecting fsspec==2024.10.0\n",
                        "  Using cached fsspec-2024.10.0-py3-none-any.whl.metadata (11 kB)\n",
                        "Using cached fsspec-2024.10.0-py3-none-any.whl (179 kB)\n",
                        "Installing collected packages: fsspec\n",
                        "  Attempting uninstall: fsspec\n",
                        "    Found existing installation: fsspec 2024.9.0\n",
                        "    Uninstalling fsspec-2024.9.0:\n",
                        "      Successfully uninstalled fsspec-2024.9.0\n",
                        "Successfully installed fsspec-2024.10.0\n",
                        "Note: you may need to restart the kernel to use updated packages.\n"
                    ]
                },
                {
                    "name": "stderr",
                    "output_type": "stream",
                    "text": [
                        "WARNING: Ignoring invalid distribution ~ (c:\\Python312\\Lib\\site-packages)\n",
                        "WARNING: Ignoring invalid distribution ~ensorboard (c:\\Python312\\Lib\\site-packages)\n",
                        "WARNING: Ignoring invalid distribution ~ip (c:\\Python312\\Lib\\site-packages)\n",
                        "WARNING: Ignoring invalid distribution ~ (c:\\Python312\\Lib\\site-packages)\n",
                        "WARNING: Ignoring invalid distribution ~ensorboard (c:\\Python312\\Lib\\site-packages)\n",
                        "WARNING: Ignoring invalid distribution ~ip (c:\\Python312\\Lib\\site-packages)\n",
                        "WARNING: Ignoring invalid distribution ~ (c:\\Python312\\Lib\\site-packages)\n",
                        "WARNING: Ignoring invalid distribution ~ensorboard (c:\\Python312\\Lib\\site-packages)\n",
                        "WARNING: Ignoring invalid distribution ~ip (c:\\Python312\\Lib\\site-packages)\n",
                        "ERROR: pip's dependency resolver does not currently take into account all the packages that are installed. This behaviour is the source of the following dependency conflicts.\n",
                        "datasets 3.2.0 requires fsspec[http]<=2024.9.0,>=2023.1.0, but you have fsspec 2024.10.0 which is incompatible.\n",
                        "\n",
                        "[notice] A new release of pip is available: 25.0.1 -> 25.1\n",
                        "[notice] To update, run: python.exe -m pip install --upgrade pip\n"
                    ]
                },
                {
                    "name": "stdout",
                    "output_type": "stream",
                    "text": [
                        "Collecting gcsfs\n",
                        "  Downloading gcsfs-2025.3.2-py2.py3-none-any.whl.metadata (1.9 kB)\n",
                        "Requirement already satisfied: fsspec in c:\\python312\\lib\\site-packages (2024.10.0)\n",
                        "Collecting fsspec\n",
                        "  Downloading fsspec-2025.3.2-py3-none-any.whl.metadata (11 kB)\n",
                        "Requirement already satisfied: aiohttp!=4.0.0a0,!=4.0.0a1 in c:\\python312\\lib\\site-packages (from gcsfs) (3.11.12)\n",
                        "Requirement already satisfied: decorator>4.1.2 in c:\\users\\shaba\\appdata\\roaming\\python\\python312\\site-packages (from gcsfs) (5.1.1)\n",
                        "Collecting google-auth>=1.2 (from gcsfs)\n",
                        "  Downloading google_auth-2.39.0-py2.py3-none-any.whl.metadata (6.2 kB)\n",
                        "Collecting google-auth-oauthlib (from gcsfs)\n",
                        "  Downloading google_auth_oauthlib-1.2.2-py3-none-any.whl.metadata (2.7 kB)\n",
                        "Collecting google-cloud-storage (from gcsfs)\n",
                        "  Downloading google_cloud_storage-3.1.0-py2.py3-none-any.whl.metadata (12 kB)\n",
                        "Requirement already satisfied: requests in c:\\python312\\lib\\site-packages (from gcsfs) (2.32.3)\n",
                        "Requirement already satisfied: aiohappyeyeballs>=2.3.0 in c:\\python312\\lib\\site-packages (from aiohttp!=4.0.0a0,!=4.0.0a1->gcsfs) (2.4.6)\n",
                        "Requirement already satisfied: aiosignal>=1.1.2 in c:\\python312\\lib\\site-packages (from aiohttp!=4.0.0a0,!=4.0.0a1->gcsfs) (1.3.2)\n",
                        "Requirement already satisfied: attrs>=17.3.0 in c:\\python312\\lib\\site-packages (from aiohttp!=4.0.0a0,!=4.0.0a1->gcsfs) (24.2.0)\n",
                        "Requirement already satisfied: frozenlist>=1.1.1 in c:\\python312\\lib\\site-packages (from aiohttp!=4.0.0a0,!=4.0.0a1->gcsfs) (1.5.0)\n",
                        "Requirement already satisfied: multidict<7.0,>=4.5 in c:\\python312\\lib\\site-packages (from aiohttp!=4.0.0a0,!=4.0.0a1->gcsfs) (5.0.0)\n",
                        "Requirement already satisfied: propcache>=0.2.0 in c:\\python312\\lib\\site-packages (from aiohttp!=4.0.0a0,!=4.0.0a1->gcsfs) (0.2.1)\n",
                        "Requirement already satisfied: yarl<2.0,>=1.17.0 in c:\\python312\\lib\\site-packages (from aiohttp!=4.0.0a0,!=4.0.0a1->gcsfs) (1.18.3)\n",
                        "Requirement already satisfied: cachetools<6.0,>=2.0.0 in c:\\python312\\lib\\site-packages (from google-auth>=1.2->gcsfs) (5.5.1)\n",
                        "Collecting pyasn1-modules>=0.2.1 (from google-auth>=1.2->gcsfs)\n",
                        "  Downloading pyasn1_modules-0.4.2-py3-none-any.whl.metadata (3.5 kB)\n",
                        "Requirement already satisfied: rsa<5,>=3.1.4 in c:\\python312\\lib\\site-packages (from google-auth>=1.2->gcsfs) (4.9)\n",
                        "Collecting requests-oauthlib>=0.7.0 (from google-auth-oauthlib->gcsfs)\n",
                        "  Using cached requests_oauthlib-2.0.0-py2.py3-none-any.whl.metadata (11 kB)\n",
                        "Collecting google-api-core<3.0.0dev,>=2.15.0 (from google-cloud-storage->gcsfs)\n",
                        "  Downloading google_api_core-2.25.0rc0-py3-none-any.whl.metadata (3.0 kB)\n",
                        "Collecting google-cloud-core<3.0dev,>=2.4.2 (from google-cloud-storage->gcsfs)\n",
                        "  Downloading google_cloud_core-2.4.3-py2.py3-none-any.whl.metadata (2.7 kB)\n",
                        "Collecting google-resumable-media>=2.7.2 (from google-cloud-storage->gcsfs)\n",
                        "  Using cached google_resumable_media-2.7.2-py2.py3-none-any.whl.metadata (2.2 kB)\n",
                        "Requirement already satisfied: google-crc32c<2.0dev,>=1.0 in c:\\python312\\lib\\site-packages (from google-cloud-storage->gcsfs) (1.6.0)\n",
                        "Requirement already satisfied: charset-normalizer<4,>=2 in c:\\python312\\lib\\site-packages (from requests->gcsfs) (3.4.1)\n",
                        "Requirement already satisfied: idna<4,>=2.5 in c:\\python312\\lib\\site-packages (from requests->gcsfs) (2.10)\n",
                        "Requirement already satisfied: urllib3<3,>=1.21.1 in c:\\python312\\lib\\site-packages (from requests->gcsfs) (2.3.0)\n",
                        "Requirement already satisfied: certifi>=2017.4.17 in c:\\python312\\lib\\site-packages (from requests->gcsfs) (2025.1.31)\n",
                        "Collecting googleapis-common-protos<2.0.0,>=1.56.2 (from google-api-core<3.0.0dev,>=2.15.0->google-cloud-storage->gcsfs)\n",
                        "  Downloading googleapis_common_protos-1.70.0-py3-none-any.whl.metadata (9.3 kB)\n",
                        "Requirement already satisfied: protobuf!=3.20.0,!=3.20.1,!=4.21.0,!=4.21.1,!=4.21.2,!=4.21.3,!=4.21.4,!=4.21.5,<7.0.0,>=3.19.5 in c:\\python312\\lib\\site-packages (from google-api-core<3.0.0dev,>=2.15.0->google-cloud-storage->gcsfs) (5.29.3)\n",
                        "Requirement already satisfied: proto-plus<2.0.0,>=1.22.3 in c:\\python312\\lib\\site-packages (from google-api-core<3.0.0dev,>=2.15.0->google-cloud-storage->gcsfs) (1.26.0)\n",
                        "Requirement already satisfied: pyasn1<0.7.0,>=0.6.1 in c:\\python312\\lib\\site-packages (from pyasn1-modules>=0.2.1->google-auth>=1.2->gcsfs) (0.6.1)\n",
                        "Requirement already satisfied: oauthlib>=3.0.0 in c:\\python312\\lib\\site-packages (from requests-oauthlib>=0.7.0->google-auth-oauthlib->gcsfs) (3.2.2)\n",
                        "Downloading gcsfs-2025.3.2-py2.py3-none-any.whl (36 kB)\n",
                        "Downloading fsspec-2025.3.2-py3-none-any.whl (194 kB)\n",
                        "Downloading google_auth-2.39.0-py2.py3-none-any.whl (212 kB)\n",
                        "Downloading google_auth_oauthlib-1.2.2-py3-none-any.whl (19 kB)\n",
                        "Downloading google_cloud_storage-3.1.0-py2.py3-none-any.whl (174 kB)\n",
                        "Downloading google_api_core-2.25.0rc0-py3-none-any.whl (160 kB)\n",
                        "Downloading google_cloud_core-2.4.3-py2.py3-none-any.whl (29 kB)\n",
                        "Using cached google_resumable_media-2.7.2-py2.py3-none-any.whl (81 kB)\n",
                        "Downloading pyasn1_modules-0.4.2-py3-none-any.whl (181 kB)\n",
                        "Using cached requests_oauthlib-2.0.0-py2.py3-none-any.whl (24 kB)\n",
                        "Downloading googleapis_common_protos-1.70.0-py3-none-any.whl (294 kB)\n",
                        "Installing collected packages: pyasn1-modules, googleapis-common-protos, google-resumable-media, fsspec, requests-oauthlib, google-auth, google-auth-oauthlib, google-api-core, google-cloud-core, google-cloud-storage, gcsfs\n",
                        "  Attempting uninstall: googleapis-common-protos\n",
                        "    Found existing installation: googleapis-common-protos 1.55.0\n",
                        "    Uninstalling googleapis-common-protos-1.55.0:\n",
                        "      Successfully uninstalled googleapis-common-protos-1.55.0\n",
                        "  Attempting uninstall: fsspec\n",
                        "    Found existing installation: fsspec 2024.10.0\n",
                        "    Uninstalling fsspec-2024.10.0:\n",
                        "      Successfully uninstalled fsspec-2024.10.0\n",
                        "Note: you may need to restart the kernel to use updated packages.\n"
                    ]
                },
                {
                    "name": "stderr",
                    "output_type": "stream",
                    "text": [
                        "WARNING: Ignoring invalid distribution ~ (c:\\Python312\\Lib\\site-packages)\n",
                        "WARNING: Ignoring invalid distribution ~ensorboard (c:\\Python312\\Lib\\site-packages)\n",
                        "WARNING: Ignoring invalid distribution ~ip (c:\\Python312\\Lib\\site-packages)\n",
                        "WARNING: Ignoring invalid distribution ~ (c:\\Python312\\Lib\\site-packages)\n",
                        "WARNING: Ignoring invalid distribution ~ensorboard (c:\\Python312\\Lib\\site-packages)\n",
                        "WARNING: Ignoring invalid distribution ~ip (c:\\Python312\\Lib\\site-packages)\n",
                        "  WARNING: Failed to write executable - trying to use .deleteme logic\n",
                        "ERROR: Could not install packages due to an OSError: [WinError 2] The system cannot find the file specified: 'c:\\\\Python312\\\\Scripts\\\\google-oauthlib-tool.exe' -> 'c:\\\\Python312\\\\Scripts\\\\google-oauthlib-tool.exe.deleteme'\n",
                        "\n",
                        "\n",
                        "[notice] A new release of pip is available: 25.0.1 -> 25.1\n",
                        "[notice] To update, run: python.exe -m pip install --upgrade pip\n"
                    ]
                }
            ],
            "source": [
                "# Step 1: Install minimal requirements\n",
                "%pip install transformers==4.30.0 sentencepiece==0.1.99 flask==2.3.2\n",
                "%pip install -q -U transformers datasets accelerate peft trl bitsandbytes gradio\n",
                "%pip install -q -U tensorboard scikit-learn\n",
                "%pip install --upgrade fsspec==2024.10.0\n",
                "%pip install --upgrade gcsfs fsspec"
            ]
        },
        {
            "cell_type": "code",
            "execution_count": null,
            "metadata": {
                "id": "7b1e4498",
                "language": "python"
            },
            "outputs": [
                {
                    "name": "stderr",
                    "output_type": "stream",
                    "text": [
                        "c:\\Python312\\Lib\\site-packages\\tqdm\\auto.py:21: TqdmWarning: IProgress not found. Please update jupyter and ipywidgets. See https://ipywidgets.readthedocs.io/en/stable/user_install.html\n",
                        "  from .autonotebook import tqdm as notebook_tqdm\n"
                    ]
                }
            ],
            "source": [
                "# Step 2: Use Tiny Model (FLAN-T5 Small - 80MB)\n",
                "from transformers import pipeline\n",
                "\n",
                "# Load tiny model (80MB) - runs on CPU\n",
                "chatbot = pipeline(\n",
                "    \"text2text-generation\",\n",
                "    model=\"google/flan-t5-small\",\n",
                "    device=-1  # Force CPU usage\n",
                ")\n",
                "\n",
                "# Test the model with a simple prompt\n",
                "test_response = chatbot(\"User: How do I reset my password?\\nAssistant:\", max_length=100)\n",
                "print(\"Test response:\", test_response[0]['generated_text'])"
            ]
        },
        {
            "cell_type": "code",
            "execution_count": null,
            "metadata": {
                "id": "ddc8161b",
                "language": "python"
            },
            "outputs": [],
            "source": [
                "# Step 3: Create a simple Flask API\n",
                "from flask import Flask, request, jsonify\n",
                "import threading\n",
                "\n",
                "app = Flask(__name__)\n",
                "\n",
                "@app.route('/chat', methods=['POST'])\n",
                "def chat():\n",
                "    prompt = request.json.get('prompt', '')\n",
                "    response = chatbot(f\"User: {prompt}\\nAssistant:\", max_length=100)\n",
                "    return jsonify({\"response\": response[0]['generated_text']})\n",
                "\n",
                "@app.route('/health', methods=['GET'])\n",
                "def health():\n",
                "    return jsonify({\"status\": \"ok\", \"model\": \"google/flan-t5-small\"})\n",
                "\n",
                "# Function to start the Flask server in a separate thread\n",
                "def start_flask():\n",
                "    app.run(host='0.0.0.0', port=5000, threaded=True)\n",
                "\n",
                "# Start the Flask server\n",
                "threading.Thread(target=start_flask).start()\n",
                "\n",
                "print(\"Flask API server running at http://localhost:5000\")\n",
                "print(\"- POST /chat with JSON body {\\\"prompt\\\": \\\"your question here\\\"}\")\n",
                "print(\"- GET /health to check server status\")"
            ]
        },
        {
            "cell_type": "code",
            "execution_count": null,
            "metadata": {
                "id": "7ce70365",
                "language": "python"
            },
            "outputs": [],
            "source": [
                "# Step 4: Test the API with a sample request\n",
                "import requests\n",
                "import json\n",
                "\n",
                "try:\n",
                "    # Test the chat endpoint\n",
                "    response = requests.post(\n",
                "        \"http://localhost:5000/chat\",\n",
                "        json={\"prompt\": \"What's the capital of France?\"}\n",
                "    )\n",
                "    \n",
                "    if response.status_code == 200:\n",
                "        print(\"API Response:\")\n",
                "        print(json.dumps(response.json(), indent=2))\n",
                "    else:\n",
                "        print(f\"Error: {response.status_code}\")\n",
                "        print(response.text)\n",
                "except Exception as e:\n",
                "    print(f\"Error connecting to API: {e}\")\n",
                "    print(\"Make sure the Flask server is running properly.\")"
            ]
        },
        {
            "cell_type": "code",
            "execution_count": null,
            "metadata": {
                "id": "02eec3a5",
                "language": "python"
            },
            "outputs": [],
            "source": [
                "# Step 5: Create a simple chat interface using Python\n",
                "def chat_with_bot():\n",
                "    print(\"Chat with FLAN-T5 Small (type 'exit' to quit)\")\n",
                "    print(\"-\" * 50)\n",
                "    \n",
                "    while True:\n",
                "        user_input = input(\"You: \")\n",
                "        if user_input.lower() in [\"exit\", \"quit\", \"bye\"]:\n",
                "            print(\"Bot: Goodbye!\")\n",
                "            break\n",
                "            \n",
                "        # Get response directly from model (no API call)\n",
                "        response = chatbot(f\"User: {user_input}\\nAssistant:\", max_length=100)\n",
                "        print(f\"Bot: {response[0]['generated_text']}\")\n",
                "        print(\"-\" * 50)\n",
                "\n",
                "# Uncomment the line below to start the chat interface\n",
                "# chat_with_bot()"
            ]
        },
        {
            "cell_type": "code",
            "execution_count": null,
            "metadata": {
                "id": "cc892747",
                "language": "python"
            },
            "outputs": [],
            "source": [
                "# Step 6: Function to handle batch processing\n",
                "def batch_process(questions):\n",
                "    \"\"\"\n",
                "    Process a batch of questions and return their answers\n",
                "    \"\"\"\n",
                "    results = []\n",
                "    for question in questions:\n",
                "        prompt = f\"User: {question}\\nAssistant:\"\n",
                "        response = chatbot(prompt, max_length=100)\n",
                "        results.append({\n",
                "            \"question\": question,\n",
                "            \"answer\": response[0]['generated_text']\n",
                "        })\n",
                "    return results\n",
                "\n",
                "# Example batch of questions\n",
                "sample_questions = [\n",
                "    \"What is machine learning?\",\n",
                "    \"How does a neural network work?\",\n",
                "    \"What's the difference between AI and ML?\"\n",
                "]\n",
                "\n",
                "# Process the batch\n",
                "batch_results = batch_process(sample_questions)\n",
                "\n",
                "# Display results\n",
                "for i, result in enumerate(batch_results):\n",
                "    print(f\"Question {i+1}: {result['question']}\")\n",
                "    print(f\"Answer: {result['answer']}\")\n",
                "    print(\"-\" * 50)"
            ]
        },
        {
            "cell_type": "code",
            "execution_count": null,
            "metadata": {
                "id": "9490da23",
                "language": "python"
            },
            "outputs": [],
            "source": [
                "# Step 7: Clean up and shut down Flask server (optional)\n",
                "import os\n",
                "import signal\n",
                "\n",
                "def shutdown_flask():\n",
                "    \"\"\"Shut down the Flask server\"\"\"\n",
                "    # This is a simple way to find and terminate the Flask process\n",
                "    # Note: In a production environment, you'd want a more robust solution\n",
                "    try:\n",
                "        # Try to make a request to shut down the server\n",
                "        requests.get(\"http://localhost:5000/shutdown\", timeout=1)\n",
                "    except:\n",
                "        pass\n",
                "        \n",
                "    # Get process ID\n",
                "    import os\n",
                "    pid = os.getpid()\n",
                "    \n",
                "    print(f\"To completely shut down the Flask server, restart the kernel or notebook.\")\n",
                "    print(f\"Current process ID: {pid}\")\n",
                "\n",
                "# Uncomment the following line to shut down the Flask server when you're done\n",
                "# shutdown_flask()"
            ]
        }
    ],
    "metadata": {
        "kernelspec": {
            "display_name": "Python 3",
            "language": "python",
            "name": "python3"
        },
        "language_info": {
            "codemirror_mode": {
                "name": "ipython",
                "version": 3
            },
            "file_extension": ".py",
            "mimetype": "text/x-python",
            "name": "python",
            "nbconvert_exporter": "python",
            "pygments_lexer": "ipython3",
            "version": "3.12.1"
        }
    },
    "nbformat": 4,
    "nbformat_minor": 5
}
